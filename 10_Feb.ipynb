{
  "nbformat": 4,
  "nbformat_minor": 0,
  "metadata": {
    "colab": {
      "provenance": [],
      "authorship_tag": "ABX9TyPcjoRQftljlOtr43mUP1sW",
      "include_colab_link": true
    },
    "kernelspec": {
      "name": "python3",
      "display_name": "Python 3"
    },
    "language_info": {
      "name": "python"
    }
  },
  "cells": [
    {
      "cell_type": "markdown",
      "metadata": {
        "id": "view-in-github",
        "colab_type": "text"
      },
      "source": [
        "<a href=\"https://colab.research.google.com/github/jyotisubham1/Pw_ds_assignments/blob/main/10_Feb.ipynb\" target=\"_parent\"><img src=\"https://colab.research.google.com/assets/colab-badge.svg\" alt=\"Open In Colab\"/></a>"
      ]
    },
    {
      "cell_type": "markdown",
      "source": [
        "Q.1"
      ],
      "metadata": {
        "id": "m4Tx2fFHHgXK"
      }
    },
    {
      "cell_type": "markdown",
      "source": [
        "The 'open()' function is used to open a file. It takes two parameters - the name of the file and the mode in which to open the file. The different modes of opening a file are:\n",
        "\n",
        "'r': Read mode (default). Opens the file for reading.\n",
        "\n",
        "'w': Write mode. Opens the file for writing. If the file already exists, it truncates the file to zero length.\n",
        "\n",
        "'a': Append mode. Opens the file for writing. If the file already exists, it appends the data to the file.\n",
        "\n",
        "'b': Binary mode. This is used for binary files, e.g., images.\n",
        "\n",
        "'x': Exclusive creation mode. Creates the specified file if it does not exist; otherwise, the operation will fail."
      ],
      "metadata": {
        "id": "8zKGUi_rH1oA"
      }
    },
    {
      "cell_type": "markdown",
      "source": [
        "Q.2\n"
      ],
      "metadata": {
        "id": "ObELI21KIB0X"
      }
    },
    {
      "cell_type": "markdown",
      "source": [
        "The 'close()' function is used to close an opened file. It is important to close a file because:\n",
        "\n",
        "Closing a file releases the resources associated with the file, such as the file descriptor.\n",
        "It ensures that changes made to the file are saved."
      ],
      "metadata": {
        "id": "c4zakV38ILUn"
      }
    },
    {
      "cell_type": "markdown",
      "source": [
        "Q.3"
      ],
      "metadata": {
        "id": "uvid7gPmIgB6"
      }
    },
    {
      "cell_type": "markdown",
      "source": [
        "Q.1"
      ],
      "metadata": {
        "id": "e2TAet0lB_w6"
      }
    },
    {
      "cell_type": "markdown",
      "source": [
        "The 'open()' function is used to open a file. It takes two parameters - the name of the file and the mode in which to open the file. The different modes of opening a file are:\n",
        "\n",
        "'r' (Read Mode): Opens the file for reading. It is the default mode."
      ],
      "metadata": {
        "id": "86xJ5vWACCmN"
      }
    },
    {
      "cell_type": "code",
      "source": [
        "with open('filename.txt', 'r') as file:\n",
        "    # Code for reading the file\n"
      ],
      "metadata": {
        "id": "nF3V-wc_C5VT"
      },
      "execution_count": null,
      "outputs": []
    },
    {
      "cell_type": "markdown",
      "source": [
        "'w' (Write Mode): Opens the file for writing. If the file already exists, it truncates the file to zero length. If the file does not exist, it creates a new file."
      ],
      "metadata": {
        "id": "tr9osaR7Cd8-"
      }
    },
    {
      "cell_type": "code",
      "source": [
        "with open('filename.txt', 'w') as file:\n",
        "    # Code for writing to the file\n"
      ],
      "metadata": {
        "id": "vT9MugEwDAX7"
      },
      "execution_count": null,
      "outputs": []
    },
    {
      "cell_type": "markdown",
      "source": [
        "'a' (Append Mode): Opens the file for writing. If the file already exists, it appends the data to the end of the file. If the file does not exist, it creates a new file."
      ],
      "metadata": {
        "id": "FFKm_W9CDDtT"
      }
    },
    {
      "cell_type": "code",
      "source": [
        "with open('filename.txt', 'a') as file:\n",
        "    # Code for appending to the file\n"
      ],
      "metadata": {
        "id": "kRV0C9kFDJPy"
      },
      "execution_count": null,
      "outputs": []
    },
    {
      "cell_type": "markdown",
      "source": [
        "'b' (Binary Mode): Used for reading or writing binary data, like images or executable files.\n",
        "\n",
        "'x' (Exclusive Creation Mode): Creates the specified file if it does not exist; otherwise, the operation will fail."
      ],
      "metadata": {
        "id": "VVuBKXGhDPOQ"
      }
    },
    {
      "cell_type": "markdown",
      "source": [
        "Q.2"
      ],
      "metadata": {
        "id": "UO-xbEnlDS5h"
      }
    },
    {
      "cell_type": "markdown",
      "source": [
        "The close() function is used to close an opened file. It is important to close a file because:\n",
        "\n",
        "Closing a file releases the resources associated with the file, such as the file descriptor.\n",
        "It ensures that changes made to the file are saved."
      ],
      "metadata": {
        "id": "COpEIcYsDa27"
      }
    },
    {
      "cell_type": "markdown",
      "source": [
        "Q.3"
      ],
      "metadata": {
        "id": "T0EdoOLNDdZ9"
      }
    },
    {
      "cell_type": "code",
      "source": [
        "# Writing to a file\n",
        "with open('data_scientist.txt', 'w') as file:\n",
        "    file.write('I want to become a Data Scientist')\n",
        "\n",
        "# Reading from the file\n",
        "with open('data_scientist.txt', 'r') as file:\n",
        "    content = file.read()\n",
        "    print(content)\n"
      ],
      "metadata": {
        "colab": {
          "base_uri": "https://localhost:8080/"
        },
        "id": "NdqB5iLUDV0G",
        "outputId": "3fa526b2-fe40-46f5-cb11-367c3cc1a4b5"
      },
      "execution_count": 2,
      "outputs": [
        {
          "output_type": "stream",
          "name": "stdout",
          "text": [
            "I want to become a Data Scientist\n"
          ]
        }
      ]
    },
    {
      "cell_type": "markdown",
      "source": [
        "Q.4"
      ],
      "metadata": {
        "id": "vV-K7cx5DlFk"
      }
    },
    {
      "cell_type": "markdown",
      "source": [
        "read(): Reads the entire content of the file as a single string.\n",
        "\n",
        "readline(): Reads a single line from the file.\n",
        "\n",
        "readlines(): Reads all lines from the file and returns a list of lines."
      ],
      "metadata": {
        "id": "eqi2JwGjDsM1"
      }
    },
    {
      "cell_type": "code",
      "source": [
        "# Example using read(), readline(), and readlines()\n",
        "with open('data_scientist.txt', 'r') as file:\n",
        "    content = file.read()\n",
        "    print(\"Using read():\", content)\n",
        "\n",
        "with open('data_scientist.txt', 'r') as file:\n",
        "    line = file.readline()\n",
        "    print(\"Using readline():\", line)\n",
        "\n",
        "with open('data_scientist.txt', 'r') as file:\n",
        "    lines = file.readlines()\n",
        "    print(\"Using readlines():\", lines)\n"
      ],
      "metadata": {
        "colab": {
          "base_uri": "https://localhost:8080/"
        },
        "id": "VGd4s2QoDnVp",
        "outputId": "4bd6f818-5496-4769-dc45-24897a8098c5"
      },
      "execution_count": 3,
      "outputs": [
        {
          "output_type": "stream",
          "name": "stdout",
          "text": [
            "Using read(): I want to become a Data Scientist\n",
            "Using readline(): I want to become a Data Scientist\n",
            "Using readlines(): ['I want to become a Data Scientist']\n"
          ]
        }
      ]
    },
    {
      "cell_type": "markdown",
      "source": [
        "Q.5"
      ],
      "metadata": {
        "id": "8syB62lsD1E0"
      }
    },
    {
      "cell_type": "markdown",
      "source": [
        "The with statement is used with open() to ensure that the file is properly closed after the block of code is executed. The advantage is that it automatically takes care of resource management and exception handling."
      ],
      "metadata": {
        "id": "5CIDX5-tD7ZH"
      }
    },
    {
      "cell_type": "markdown",
      "source": [
        "Q.6"
      ],
      "metadata": {
        "id": "VQ3sqTS7EEfX"
      }
    },
    {
      "cell_type": "markdown",
      "source": [
        "write(): Writes a string to the file.\n",
        "\n",
        "writelines(): Writes a list of lines to the file."
      ],
      "metadata": {
        "id": "un5kpXzyEId0"
      }
    },
    {
      "cell_type": "code",
      "source": [
        "# Example using write() and writelines()\n",
        "with open('output.txt', 'w') as file:\n",
        "    file.write('This is a sample line.\\n')\n",
        "    file.write('Another line.\\n')\n",
        "\n",
        "# Using writelines() with a list of lines\n",
        "lines = ['Line 1\\n', 'Line 2\\n', 'Line 3\\n']\n",
        "with open('output.txt', 'a') as file:\n",
        "    file.writelines(lines)\n"
      ],
      "metadata": {
        "id": "r5y-p0_aD6ic"
      },
      "execution_count": 4,
      "outputs": []
    }
  ]
}