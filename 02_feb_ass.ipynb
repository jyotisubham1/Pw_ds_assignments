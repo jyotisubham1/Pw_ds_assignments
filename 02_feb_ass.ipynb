{
  "nbformat": 4,
  "nbformat_minor": 0,
  "metadata": {
    "colab": {
      "provenance": [],
      "authorship_tag": "ABX9TyNxw71GUNh97lTImRxMDk3A",
      "include_colab_link": true
    },
    "kernelspec": {
      "name": "python3",
      "display_name": "Python 3"
    },
    "language_info": {
      "name": "python"
    }
  },
  "cells": [
    {
      "cell_type": "markdown",
      "metadata": {
        "id": "view-in-github",
        "colab_type": "text"
      },
      "source": [
        "<a href=\"https://colab.research.google.com/github/jyotisubham1/Pw_ds_assignments/blob/main/02_feb_ass.ipynb\" target=\"_parent\"><img src=\"https://colab.research.google.com/assets/colab-badge.svg\" alt=\"Open In Colab\"/></a>"
      ]
    },
    {
      "cell_type": "markdown",
      "source": [
        "Q.1"
      ],
      "metadata": {
        "id": "J_HGJW3GlaiN"
      }
    },
    {
      "cell_type": "markdown",
      "source": [
        "Yes, tuples in Python are immutable, which means their elements cannot be modified once the tuple is created.\n",
        "\n",
        "Some characteristics of tuples are \n",
        "\n",
        "Immutable: Tuples are immutable, which means their elements cannot be modified once the tuple is created. However, we can create a new tuple with modified elements.\n",
        "\n",
        "Ordered: Tuples maintain the order of elements as they are added.\n",
        "\n",
        "Heterogeneous: It can contain elements of different data types, such as integers, strings, floats, or even other tuples.\n",
        "\n",
        "Iteration: It can be iterated over using loops."
      ],
      "metadata": {
        "id": "u5aXIdocle0w"
      }
    },
    {
      "cell_type": "markdown",
      "source": [
        "Q.2"
      ],
      "metadata": {
        "id": "PtvyAUntle3x"
      }
    },
    {
      "cell_type": "markdown",
      "source": [
        "The two built-in method of tuples are 1. tuple count 2. tuple index\n",
        "\n",
        "1. tuple count is a method returns the number of occurance. It takes a single argument, which is the value to be counted.\n",
        "\n",
        "2. tuple index returns the index of the first occurance. It is also take single argument but which is the value to be searched.\n",
        "\n",
        "two examples are given bellow "
      ],
      "metadata": {
        "id": "k6rFAxzglfGy"
      }
    },
    {
      "cell_type": "code",
      "source": [
        "# tuple.count\n",
        "\n",
        "my_tuple = (1, 2, 3, 7, 6, 2, 5, 2)\n",
        "count = my_tuple.count(2)\n",
        "print(count)  "
      ],
      "metadata": {
        "colab": {
          "base_uri": "https://localhost:8080/"
        },
        "id": "k4gK0URnoK7e",
        "outputId": "b96ce010-5493-45e2-b988-5272b79a53bf"
      },
      "execution_count": null,
      "outputs": [
        {
          "output_type": "stream",
          "name": "stdout",
          "text": [
            "3\n"
          ]
        }
      ]
    },
    {
      "cell_type": "code",
      "source": [
        "#tuple.index\n",
        "\n",
        "my_tuple = (1, 2, 3, 2, 4, 2, 5, 2)\n",
        "index = my_tuple.index(3)\n",
        "print(index)  \n"
      ],
      "metadata": {
        "colab": {
          "base_uri": "https://localhost:8080/"
        },
        "id": "8P20q2DGo5wS",
        "outputId": "268d165e-fcb8-49f1-c27f-650df8ceebd1"
      },
      "execution_count": null,
      "outputs": [
        {
          "output_type": "stream",
          "name": "stdout",
          "text": [
            "2\n"
          ]
        }
      ]
    },
    {
      "cell_type": "markdown",
      "source": [
        "As tuples are immutable, It cannot be modified, while lists are mutable. There is no need for methods like append(), remove(), or sort(), which are commonly used with lists to modify their contents for this reason tuples are light weight."
      ],
      "metadata": {
        "id": "eJKJA4H7lfKO"
      }
    },
    {
      "cell_type": "markdown",
      "source": [
        "Q.3"
      ],
      "metadata": {
        "id": "icnyILBwlfN2"
      }
    },
    {
      "cell_type": "markdown",
      "source": [
        "SET is the datatype which doesnot allow duplicate items. Given below the code to remove duplicate item from \n",
        "\n",
        "List = [1, 1, 1, 2, 1, 3, 1, 4, 2, 1, 2, 2, 2, 3, 2, 4, 3, 1, 3, 2, 3, 3, 3, 4, 4, 1, 4, 2, 4, 3, 4, 4]"
      ],
      "metadata": {
        "id": "Qsm_kPa9lfQ6"
      }
    },
    {
      "cell_type": "code",
      "source": [
        "my_list = [1, 1, 1, 2, 1, 3, 1, 4, 2, 1, 2, 2, 2, 3, 2, 4, 3, 1, 3, 2, 3, 3, 3, 4, 4, 1, 4, 2, 4, 3, 4, 4]\n",
        "my_set = set(my_list)        # Convert list to set \n",
        "my_list_without_duplicates = list(my_set)  # Convert set back to list\n",
        "print(my_list_without_duplicates)\n"
      ],
      "metadata": {
        "colab": {
          "base_uri": "https://localhost:8080/"
        },
        "id": "W_VMwYmSq2Ra",
        "outputId": "ce1d2f72-d7cd-4553-d390-54a3ad27e024"
      },
      "execution_count": null,
      "outputs": [
        {
          "output_type": "stream",
          "name": "stdout",
          "text": [
            "[1, 2, 3, 4]\n"
          ]
        }
      ]
    },
    {
      "cell_type": "markdown",
      "source": [
        "Q.4"
      ],
      "metadata": {
        "id": "phu2XcIxvVVD"
      }
    },
    {
      "cell_type": "markdown",
      "source": [
        "The major difference between union() and update() are union() creat a totaly new set where as the update() method just update a set with another. \n",
        "\n",
        "two examples are given bellow"
      ],
      "metadata": {
        "id": "06or-dGBvaTi"
      }
    },
    {
      "cell_type": "code",
      "source": [
        "# union()\n",
        "\n",
        "set1 = {1, 2, 3}\n",
        "set2 = {3, 4, 5}\n",
        "union_set = set1.union(set2)\n",
        "print(union_set) \n"
      ],
      "metadata": {
        "colab": {
          "base_uri": "https://localhost:8080/"
        },
        "id": "LBXMAeHTtDUc",
        "outputId": "0848f143-5eab-46bb-9966-2f6a9d43d53f"
      },
      "execution_count": null,
      "outputs": [
        {
          "output_type": "stream",
          "name": "stdout",
          "text": [
            "{1, 2, 3, 4, 5}\n"
          ]
        }
      ]
    },
    {
      "cell_type": "code",
      "source": [
        "# update()\n",
        "\n",
        "set1 = {1, 2, 3}\n",
        "set2 = {3, 4, 5}\n",
        "set1.update(set2)\n",
        "print(set1)  # Output: {1, 2, 3, 4, 5}\n"
      ],
      "metadata": {
        "colab": {
          "base_uri": "https://localhost:8080/"
        },
        "id": "M_7fnBCKwXvn",
        "outputId": "cfd5fa3d-3ab8-4777-c7cf-07ef4c3e71d8"
      },
      "execution_count": null,
      "outputs": [
        {
          "output_type": "stream",
          "name": "stdout",
          "text": [
            "{1, 2, 3, 4, 5}\n"
          ]
        }
      ]
    },
    {
      "cell_type": "markdown",
      "source": [
        "Q.5"
      ],
      "metadata": {
        "id": "TGpFDUC3wjs7"
      }
    },
    {
      "cell_type": "markdown",
      "source": [
        "A dictionary in Python is a collection of key-value pairs. It is a mutable and unordered data structure, meaning that the elements are not stored in any specific order."
      ],
      "metadata": {
        "id": "84W63iXYw115"
      }
    },
    {
      "cell_type": "code",
      "source": [
        "student = {\n",
        "    \"name\": \"Subham\",\n",
        "    \"age\": 23,\n",
        "    \"grade\": \"A\",\n",
        "    \"city\": \"Bhubaneswar\"\n",
        "}\n",
        "print(student[\"age\"])"
      ],
      "metadata": {
        "colab": {
          "base_uri": "https://localhost:8080/"
        },
        "id": "BwvQ-uj5wlMr",
        "outputId": "aab41083-6857-4196-e708-d95a6788ec36"
      },
      "execution_count": null,
      "outputs": [
        {
          "output_type": "stream",
          "name": "stdout",
          "text": [
            "23\n"
          ]
        }
      ]
    },
    {
      "cell_type": "markdown",
      "source": [
        "In the above example we have a dictionary of student having all the data like his name, age grade and adress."
      ],
      "metadata": {
        "id": "P90a4eALw42x"
      }
    },
    {
      "cell_type": "markdown",
      "source": [
        "Q.6"
      ],
      "metadata": {
        "id": "Llr5K-lkxP-p"
      }
    },
    {
      "cell_type": "markdown",
      "source": [
        "Yes, we can create a nested dictionary in Python.\n",
        "\n",
        "an example is given below"
      ],
      "metadata": {
        "id": "vbH_8ojJxYDo"
      }
    },
    {
      "cell_type": "code",
      "source": [
        "student = {\n",
        "    \"name\": \"Subham\",\n",
        "    \"age\": 23,\n",
        "    \"grades\": {\n",
        "        \"math\": 100,\n",
        "        \"science\": 92,\n",
        "        \"history\": 80\n",
        "    }\n",
        "}\n",
        "print(student[\"grades\"][\"math\"])"
      ],
      "metadata": {
        "colab": {
          "base_uri": "https://localhost:8080/"
        },
        "id": "O8aDNre-xF-h",
        "outputId": "f2069910-468b-4917-d56c-b353f8b79185"
      },
      "execution_count": null,
      "outputs": [
        {
          "output_type": "stream",
          "name": "stdout",
          "text": [
            "100\n"
          ]
        }
      ]
    },
    {
      "cell_type": "markdown",
      "source": [
        "Q.7"
      ],
      "metadata": {
        "id": "_1lHm2nQyAs5"
      }
    },
    {
      "cell_type": "code",
      "source": [
        "dict1 = {'language': 'Python', 'course': 'Data Science Masters'}\n",
        "dict1.setdefault('topics', ['Python', 'Machine Learning', 'Deep Learning'])\n",
        "\n",
        "print(dict1)\n"
      ],
      "metadata": {
        "colab": {
          "base_uri": "https://localhost:8080/"
        },
        "id": "zYDmAUXlx0jp",
        "outputId": "44fb61e8-424e-4d68-f130-46a8f3d99d52"
      },
      "execution_count": null,
      "outputs": [
        {
          "output_type": "stream",
          "name": "stdout",
          "text": [
            "{'language': 'Python', 'course': 'Data Science Masters', 'topics': ['Python', 'Machine Learning', 'Deep Learning']}\n"
          ]
        }
      ]
    },
    {
      "cell_type": "markdown",
      "source": [
        "Q.8"
      ],
      "metadata": {
        "id": "sA7FA3xkyh2B"
      }
    },
    {
      "cell_type": "markdown",
      "source": [
        "The three view objects in dictionaries are \"dict_keys\", \"dict_values\", and \"dict_items\". \n",
        "\n",
        "example given below "
      ],
      "metadata": {
        "id": "e6taWXcWymMB"
      }
    },
    {
      "cell_type": "code",
      "source": [
        "dict1 = {'Sport': 'Cricket', 'Teams': ['India', 'Australia', 'England', 'South Africa', 'Sri Lanka', 'New Zealand']}\n",
        "\n",
        "# Displaying dict_keys\n",
        "keys = dict1.keys()\n",
        "print(\"Keys:\", keys)\n",
        "\n",
        "# Displaying dict_values\n",
        "values = dict1.values()\n",
        "print(\"Values:\", values)\n",
        "\n",
        "# Displaying dict_items\n",
        "items = dict1.items()\n",
        "print(\"Items:\", items)\n"
      ],
      "metadata": {
        "colab": {
          "base_uri": "https://localhost:8080/"
        },
        "id": "zuhzUbxUyVu5",
        "outputId": "6d4c018a-a0de-4b7e-a1a0-0d028269b76c"
      },
      "execution_count": null,
      "outputs": [
        {
          "output_type": "stream",
          "name": "stdout",
          "text": [
            "Keys: dict_keys(['Sport', 'Teams'])\n",
            "Values: dict_values(['Cricket', ['India', 'Australia', 'England', 'South Africa', 'Sri Lanka', 'New Zealand']])\n",
            "Items: dict_items([('Sport', 'Cricket'), ('Teams', ['India', 'Australia', 'England', 'South Africa', 'Sri Lanka', 'New Zealand'])])\n"
          ]
        }
      ]
    }
  ]
}