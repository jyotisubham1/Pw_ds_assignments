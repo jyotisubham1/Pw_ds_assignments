{
  "nbformat": 4,
  "nbformat_minor": 0,
  "metadata": {
    "colab": {
      "provenance": [],
      "authorship_tag": "ABX9TyNL9D2PcDDHsHjeyZHz2rik",
      "include_colab_link": true
    },
    "kernelspec": {
      "name": "python3",
      "display_name": "Python 3"
    },
    "language_info": {
      "name": "python"
    }
  },
  "cells": [
    {
      "cell_type": "markdown",
      "metadata": {
        "id": "view-in-github",
        "colab_type": "text"
      },
      "source": [
        "<a href=\"https://colab.research.google.com/github/jyotisubham1/Pw_ds_assignments/blob/main/OOPS_Assignment.ipynb\" target=\"_parent\"><img src=\"https://colab.research.google.com/assets/colab-badge.svg\" alt=\"Open In Colab\"/></a>"
      ]
    },
    {
      "cell_type": "markdown",
      "source": [
        "Q.1"
      ],
      "metadata": {
        "id": "j8FERQp8uBEp"
      }
    },
    {
      "cell_type": "markdown",
      "source": [
        " A **class** is a user-defined data type that contains data and code. A class is like a blueprint for an object. For example, a class named Car can have fields like color, model, speed, etc., and methods like start, stop, accelerate, etc.\n",
        "\n",
        " where as An **object** is an instance of a class. It represents a real-world entity that has an identity, state, and behavior. An object can access and manipulate the data and code of its class. For example, an object named myCar can be created from the Car class, and it can have specific values for its fields (like red, Honda, 100 km/h, etc.) and call its methods (like myCar.start(), myCar.stop(), etc.)"
      ],
      "metadata": {
        "id": "FRUYOKDWuD3f"
      }
    },
    {
      "cell_type": "markdown",
      "source": [
        "Q.2"
      ],
      "metadata": {
        "id": "AFZXIOcQt_xj"
      }
    },
    {
      "cell_type": "markdown",
      "source": [
        "The Four pillers of Oops\n",
        "1. Abstraction\n",
        "2. Encapsulation\n",
        "3. Inheritance\n",
        "4. Polymorphisim"
      ],
      "metadata": {
        "id": "YFG4N7Jcu1yM"
      }
    },
    {
      "cell_type": "markdown",
      "source": [
        "Q.3"
      ],
      "metadata": {
        "id": "rqhvk_1pvciF"
      }
    },
    {
      "cell_type": "markdown",
      "source": [
        "The  __ init__() function is a special method that is automatically called when an object is created from a class. It is used to initialize the fields of the object with some values or perform some other actions when the object is created. For example,"
      ],
      "metadata": {
        "id": "fdWPY8lwvfI-"
      }
    },
    {
      "cell_type": "code",
      "source": [
        "class Car:\n",
        "  def __init__(self,color,model,speed):\n",
        "    self.color = color\n",
        "    self.model = model\n",
        "    self.speed = speed\n",
        "\n",
        "myCar = Car(\"red\",\"Honda\",100) # creates an object named myCar from the Car class\n",
        "print(myCar.color)\n",
        "print(myCar.model)\n",
        "print(myCar.speed)\n"
      ],
      "metadata": {
        "colab": {
          "base_uri": "https://localhost:8080/"
        },
        "id": "1Av399PnveFW",
        "outputId": "959ec475-6509-46cd-ae7b-0e0c0c18a259"
      },
      "execution_count": 1,
      "outputs": [
        {
          "output_type": "stream",
          "name": "stdout",
          "text": [
            "red\n",
            "Honda\n",
            "100\n"
          ]
        }
      ]
    },
    {
      "cell_type": "markdown",
      "source": [
        "Q.4"
      ],
      "metadata": {
        "id": "2o_hY2ITv_e_"
      }
    },
    {
      "cell_type": "markdown",
      "source": [
        "The self keyword is used in OOP to refer to the current object within a class or a method. It helps to distinguish between the fields or methods of the class and the local variables or parameters of a method. It also helps to access or modify the fields or call the methods of the current object. For example"
      ],
      "metadata": {
        "id": "NjqvujbYwGrF"
      }
    },
    {
      "cell_type": "code",
      "source": [
        "class Car:\n",
        "  def __init__(self,color,model,speed):\n",
        "    self.color = color # assigns the parameter color to the field color of the current object\n",
        "    self.model = model\n",
        "    self.speed = speed\n",
        "\n",
        "  def accelerate(self):\n",
        "    self.speed += 10 # increases the speed field of the current object by 10\n",
        "\n",
        "myCar = Car(\"red\",\"Honda\",100) # creates an object named myCar from the Car class\n",
        "myCar.accelerate() # calls the accelerate method of the myCar object\n",
        "print(myCar.speed)\n"
      ],
      "metadata": {
        "colab": {
          "base_uri": "https://localhost:8080/"
        },
        "id": "hqu6mUd_wAvV",
        "outputId": "99284da1-6659-45ce-df2b-9bcd43eeaff8"
      },
      "execution_count": 2,
      "outputs": [
        {
          "output_type": "stream",
          "name": "stdout",
          "text": [
            "110\n"
          ]
        }
      ]
    },
    {
      "cell_type": "markdown",
      "source": [
        "Q.5"
      ],
      "metadata": {
        "id": "hBn34uSqwaU3"
      }
    },
    {
      "cell_type": "markdown",
      "source": [
        "Inheritance is a mechanism that allows creating new classes from existing ones by inheriting their features and adding new ones. It helps to achieve code reuse and polymorphism. There are different types of inheritance, such as:\n",
        "\n",
        "**Single inheritance:** It means creating a new class from one existing class. For example, a class named Truck can inherit from the Car class and have its own fields (like load capacity) and methods (like unload), as well as the ones inherited from the Car class (like color, model, speed, start, stop, etc.).\n",
        "\n",
        "\n"
      ],
      "metadata": {
        "id": "CqO6uUF6waIG"
      }
    },
    {
      "cell_type": "code",
      "source": [
        "class Car:    #superclass\n",
        "  def __init__(self, color, model, speed):\n",
        "    self.color = color\n",
        "    self.model = model\n",
        "    self.speed = speed\n",
        "\n",
        "  #start the car\n",
        "  def start(self):\n",
        "    print(\"The car is started\")\n",
        "\n",
        "  #stop the car\n",
        "  def stop(self):\n",
        "    print(\"The car is stopped\")\n",
        "\n",
        "#subclass that inherits from superclass\n",
        "class Truck(Car):\n",
        "  # constructor to initialize the load capacity attribute\n",
        "  def __init__(self, color, model, speed, load_capacity):\n",
        "    # calling the superclass constructor using super()\n",
        "    super().__init__(color, model, speed)\n",
        "    self.load_capacity = load_capacity\n",
        "\n",
        "  #unload the truck\n",
        "  def unload(self):\n",
        "    print(\"The truck is unloaded\")\n",
        "\n",
        "# creating an object of the subclass\n",
        "my_truck = Truck(\"blue\", \"Ford\", 80, 1000)\n",
        "\n",
        "# calling the inherited methods of the superclass\n",
        "my_truck.start()\n",
        "my_truck.stop()\n",
        "\n",
        "# calling the method of the subclass\n",
        "my_truck.unload()\n"
      ],
      "metadata": {
        "colab": {
          "base_uri": "https://localhost:8080/"
        },
        "id": "hBdD2Zgyx7Dq",
        "outputId": "1f62dd32-3d8d-435a-f3b1-837c78d0ddf0"
      },
      "execution_count": 3,
      "outputs": [
        {
          "output_type": "stream",
          "name": "stdout",
          "text": [
            "The car is started\n",
            "The car is stopped\n",
            "The truck is unloaded\n"
          ]
        }
      ]
    },
    {
      "cell_type": "markdown",
      "source": [
        "**Multiple inheritance:** It means creating a new class from two or more existing classes. For example, a class named FlyingCar can inherit from both the Car class and the Plane class and have its own fields (like wingspan) and methods (like fly), as well as the ones inherited from both the Car class and the Plane class (like color, model, speed, start, stop, accelerate, takeoff, land, etc.)."
      ],
      "metadata": {
        "id": "-RpfvMy2y3ht"
      }
    },
    {
      "cell_type": "code",
      "source": [
        "class Car:    #superclass\n",
        "  def __init__(self, color, model, speed):\n",
        "    self.color = color\n",
        "    self.model = model\n",
        "    self.speed = speed\n",
        "\n",
        "  #start the car\n",
        "  def start(self):\n",
        "    print(\"The car is started\")\n",
        "\n",
        "  #stop the car\n",
        "  def stop(self):\n",
        "    print(\"The car is stopped\")\n",
        "\n",
        "  #accelerate the car\n",
        "  def accelerate(self):\n",
        "    print(\"The car is accelerating\")\n",
        "\n",
        "\n",
        "class Plane:\n",
        "  # constructor to initialize the wingspan attribute\n",
        "  def __init__(self, wingspan):\n",
        "    self.wingspan = wingspan\n",
        "\n",
        "  # method to takeoff the plane\n",
        "  def takeoff(self):\n",
        "    print(\"The plane is taking off\")\n",
        "\n",
        "  # method to land the plane\n",
        "  def land(self):\n",
        "    print(\"The plane is landing\")\n",
        "\n",
        "# define a subclass that inherits from both Car and Plane\n",
        "class FlyingCar(Car, Plane):\n",
        "  # constructor to initialize the inherited attributes and the new attribute\n",
        "  def __init__(self, color, model, speed, wingspan):\n",
        "    # call the superclass constructors using super()\n",
        "    super().__init__(color, model, speed)\n",
        "    Plane.__init__(self, wingspan)\n",
        "\n",
        "  # method to fly the flying car\n",
        "  def fly(self):\n",
        "    print(\"The flying car is flying\")\n",
        "\n",
        "# create an object of the subclass\n",
        "my_flying_car = FlyingCar(\"red\", \"Tesla\", 120, 10)\n",
        "\n",
        "# call the inherited methods of the superclasses\n",
        "my_flying_car.start()\n",
        "my_flying_car.stop()\n",
        "my_flying_car.accelerate()\n",
        "my_flying_car.takeoff()\n",
        "my_flying_car.land()\n",
        "\n",
        "# call the method of the subclass\n",
        "my_flying_car.fly()\n"
      ],
      "metadata": {
        "colab": {
          "base_uri": "https://localhost:8080/"
        },
        "id": "LjV_6LWJzGoD",
        "outputId": "c5cc531e-94f5-4d8d-f1b7-1a5bb385544d"
      },
      "execution_count": 4,
      "outputs": [
        {
          "output_type": "stream",
          "name": "stdout",
          "text": [
            "The car is started\n",
            "The car is stopped\n",
            "The car is accelerating\n",
            "The plane is taking off\n",
            "The plane is landing\n",
            "The flying car is flying\n"
          ]
        }
      ]
    },
    {
      "cell_type": "markdown",
      "source": [
        "**Multilevel inheritance:** It means creating a new class from another class that has already inherited from another class. For example, a class named SportsCar can inherit from the Car class, which has already inherited from the Vehicle class. The SportsCar class can have its own fields (like turbo) and methods (like boost), as well as the ones inherited from both the Car class and the Vehicle class (like color, model, speed, start, stop, accelerate, wheels, engine, etc.)."
      ],
      "metadata": {
        "id": "kQ9zgkSKzXeG"
      }
    },
    {
      "cell_type": "code",
      "source": [
        "#superclass\n",
        "class Vehicle:\n",
        "  # constructor to initialize the wheels and engine attributes\n",
        "  def __init__(self, wheels, engine):\n",
        "    self.wheels = wheels\n",
        "    self.engine = engine\n",
        "\n",
        "  # method to display the wheels and engine attributes\n",
        "  def show_specs(self):\n",
        "    print(\"This vehicle has\", self.wheels, \"wheels and a\", self.engine, \"engine\")\n",
        "\n",
        "# define a subclass that inherits from Vehicle\n",
        "class Car(Vehicle):\n",
        "  # constructor to initialize the inherited attributes and the new attributes\n",
        "  def __init__(self, wheels, engine, color, model, speed):\n",
        "    # call the superclass constructor using super()\n",
        "    super().__init__(wheels, engine)\n",
        "    self.color = color\n",
        "    self.model = model\n",
        "    self.speed = speed\n",
        "\n",
        "  # method to start the car\n",
        "  def start(self):\n",
        "    print(\"The car is started\")\n",
        "\n",
        "  # method to stop the car\n",
        "  def stop(self):\n",
        "    print(\"The car is stopped\")\n",
        "\n",
        "  # method to accelerate the car\n",
        "  def accelerate(self):\n",
        "    print(\"The car is accelerating\")\n",
        "\n",
        "# define another subclass that inherits from Car\n",
        "class SportsCar(Car):\n",
        "  # constructor to initialize the inherited attributes and the new attribute\n",
        "  def __init__(self, wheels, engine, color, model, speed, turbo):\n",
        "    # call the superclass constructor using super()\n",
        "    super().__init__(wheels, engine, color, model, speed)\n",
        "    self.turbo = turbo\n",
        "\n",
        "  # method to boost the sports car\n",
        "  def boost(self):\n",
        "    print(\"The sports car is boosting\")\n",
        "\n",
        "# create an object of the subclass\n",
        "my_sports_car = SportsCar(4, \"V8\", \"red\", \"Ferrari\", 200, True)\n",
        "\n",
        "# call the inherited methods of the superclasses\n",
        "my_sports_car.show_specs()\n",
        "my_sports_car.start()\n",
        "my_sports_car.stop()\n",
        "my_sports_car.accelerate()\n",
        "\n",
        "# call the method of the subclass\n",
        "my_sports_car.boost()\n"
      ],
      "metadata": {
        "colab": {
          "base_uri": "https://localhost:8080/"
        },
        "id": "vnuncabBzamU",
        "outputId": "4906fd05-51cd-4569-ab55-70bad0424720"
      },
      "execution_count": 5,
      "outputs": [
        {
          "output_type": "stream",
          "name": "stdout",
          "text": [
            "This vehicle has 4 wheels and a V8 engine\n",
            "The car is started\n",
            "The car is stopped\n",
            "The car is accelerating\n",
            "The sports car is boosting\n"
          ]
        }
      ]
    }
  ]
}