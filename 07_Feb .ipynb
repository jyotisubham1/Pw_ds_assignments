{
  "nbformat": 4,
  "nbformat_minor": 0,
  "metadata": {
    "colab": {
      "provenance": [],
      "authorship_tag": "ABX9TyMNtriJvXz/3Bi9FmKCDbs1",
      "include_colab_link": true
    },
    "kernelspec": {
      "name": "python3",
      "display_name": "Python 3"
    },
    "language_info": {
      "name": "python"
    }
  },
  "cells": [
    {
      "cell_type": "markdown",
      "metadata": {
        "id": "view-in-github",
        "colab_type": "text"
      },
      "source": [
        "<a href=\"https://colab.research.google.com/github/jyotisubham1/Pw_ds_assignments/blob/main/07_Feb%20.ipynb\" target=\"_parent\"><img src=\"https://colab.research.google.com/assets/colab-badge.svg\" alt=\"Open In Colab\"/></a>"
      ]
    },
    {
      "cell_type": "markdown",
      "source": [
        "Q.1"
      ],
      "metadata": {
        "id": "tMUjN3ps8f3P"
      }
    },
    {
      "cell_type": "code",
      "execution_count": 4,
      "metadata": {
        "colab": {
          "base_uri": "https://localhost:8080/"
        },
        "id": "uh1Jm-sc8Yid",
        "outputId": "8eee0b1a-818e-4250-a96f-71e9142597c0"
      },
      "outputs": [
        {
          "output_type": "stream",
          "name": "stdout",
          "text": [
            "Valid Password\n",
            "Invalid Password\n"
          ]
        }
      ],
      "source": [
        "import re\n",
        "\n",
        "def validate_password(password):\n",
        "    # Check the length of the password\n",
        "    if len(password) != 10:\n",
        "        return \"Invalid Password\"\n",
        "\n",
        "    # Check for at least two uppercase letters\n",
        "    if len(re.findall(r'[A-Z]', password)) < 2:\n",
        "        return \"Invalid Password\"\n",
        "\n",
        "    # Check for at least two lowercase letters\n",
        "    if len(re.findall(r'[a-z]', password)) < 2:\n",
        "        return \"Invalid Password\"\n",
        "\n",
        "    # Check for at least one digit and three special characters\n",
        "    if len(re.findall(r'\\d', password)) < 1 or len(re.findall(r'[!@#$%^&*()-_=+]', password)) < 3:\n",
        "        return \"Invalid Password\"\n",
        "\n",
        "    # If all conditions are met, the password is valid\n",
        "    return \"Valid Password\"\n",
        "\n",
        "# Example usage:\n",
        "password1 = \"ABre@$1243\"\n",
        "password2 = \"InvalidPass\"\n",
        "\n",
        "print(validate_password(password1))\n",
        "print(validate_password(password2))\n"
      ]
    },
    {
      "cell_type": "markdown",
      "source": [
        "Q.2"
      ],
      "metadata": {
        "id": "xA8hOMIu-Wrf"
      }
    },
    {
      "cell_type": "code",
      "source": [
        "# 1. Check if the string starts with a particular letter\n",
        "starts_with_letter = lambda s, letter: s.startswith(letter)\n",
        "print(starts_with_letter(\"Python\", \"P\"))\n",
        "\n",
        "# 2. Check if the string is numeric\n",
        "is_numeric = lambda s: s.isnumeric()\n",
        "print(is_numeric(\"123\"))\n",
        "\n",
        "# 3. Sort a list of tuples having fruit names and their quantity\n",
        "fruits = [(\"mango\", 99), (\"orange\", 80), (\"grapes\", 1000)]\n",
        "sorted_fruits = sorted(fruits, key=lambda x: x[1])\n",
        "print(sorted_fruits)\n",
        "\n",
        "# 4. Find the squares of numbers from 1 to 10\n",
        "squares = [x**2 for x in range(1, 11)]\n",
        "print(squares)\n",
        "\n",
        "# 5. Find the cube root of numbers from 1 to 10\n",
        "import math\n",
        "cube_roots = [math.pow(x, 1/3) for x in range(1, 11)]\n",
        "print(cube_roots)\n",
        "\n",
        "# 6. Check if a given number is even\n",
        "is_even = lambda x: x % 2 == 0\n",
        "print(is_even(6))  # Output: True\n",
        "\n",
        "# 7. Filter odd numbers from the given list\n",
        "numbers = [1, 2, 3, 4, 5, 6, 7, 8, 9, 10]\n",
        "odd_numbers = list(filter(lambda x: x % 2 != 0, numbers))\n",
        "print(odd_numbers)\n",
        "\n",
        "# 8. Sort a list of integers into positive and negative integers lists\n",
        "integers = [1, 2, 3, 4, 5, 6, -1, -2, -3, -4, -5, 0]\n",
        "positive_integers = list(filter(lambda x: x > 0, integers))\n",
        "negative_integers = list(filter(lambda x: x < 0, integers))\n",
        "print(\"Positive Integers:\", positive_integers)\n",
        "print(\"Negative Integers:\", negative_integers)\n"
      ],
      "metadata": {
        "colab": {
          "base_uri": "https://localhost:8080/"
        },
        "id": "xxEwXNep-ZNs",
        "outputId": "75a12482-3e13-41d4-ea85-19a5a6064725"
      },
      "execution_count": 5,
      "outputs": [
        {
          "output_type": "stream",
          "name": "stdout",
          "text": [
            "True\n",
            "True\n",
            "[('orange', 80), ('mango', 99), ('grapes', 1000)]\n",
            "[1, 4, 9, 16, 25, 36, 49, 64, 81, 100]\n",
            "[1.0, 1.2599210498948732, 1.4422495703074083, 1.5874010519681994, 1.7099759466766968, 1.8171205928321397, 1.912931182772389, 2.0, 2.080083823051904, 2.154434690031884]\n",
            "True\n",
            "[1, 3, 5, 7, 9]\n",
            "Positive Integers: [1, 2, 3, 4, 5, 6]\n",
            "Negative Integers: [-1, -2, -3, -4, -5]\n"
          ]
        }
      ]
    }
  ]
}