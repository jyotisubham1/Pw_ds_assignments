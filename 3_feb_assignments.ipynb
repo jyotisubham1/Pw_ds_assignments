{
  "nbformat": 4,
  "nbformat_minor": 0,
  "metadata": {
    "colab": {
      "provenance": [],
      "authorship_tag": "ABX9TyOitnz3BraAp/tU50VhKhhC",
      "include_colab_link": true
    },
    "kernelspec": {
      "name": "python3",
      "display_name": "Python 3"
    },
    "language_info": {
      "name": "python"
    }
  },
  "cells": [
    {
      "cell_type": "markdown",
      "metadata": {
        "id": "view-in-github",
        "colab_type": "text"
      },
      "source": [
        "<a href=\"https://colab.research.google.com/github/jyotisubham1/Pw_ds_assignments/blob/main/3_feb_assignments.ipynb\" target=\"_parent\"><img src=\"https://colab.research.google.com/assets/colab-badge.svg\" alt=\"Open In Colab\"/></a>"
      ]
    },
    {
      "cell_type": "markdown",
      "source": [
        "Q.1"
      ],
      "metadata": {
        "id": "2mMIcFaGeBac"
      }
    },
    {
      "cell_type": "markdown",
      "source": [
        "The keyword used to create a function in Python is \"def\". \n",
        "\n",
        " an example of a function that returns a list of odd numbers in the range of 1 to 25given below"
      ],
      "metadata": {
        "id": "vlCThhyVeFjx"
      }
    },
    {
      "cell_type": "code",
      "source": [
        "def get_odd_numbers():\n",
        "    odd_numbers = []\n",
        "    for num in range(1, 26):\n",
        "        if num % 2 != 0:\n",
        "            odd_numbers.append(num)\n",
        "    return odd_numbers\n",
        "\n",
        "# Call the function\n",
        "result = get_odd_numbers()\n",
        "print(result)\n"
      ],
      "metadata": {
        "colab": {
          "base_uri": "https://localhost:8080/"
        },
        "id": "meuzeZgheEMQ",
        "outputId": "64b56c04-9636-4257-a6fd-e26d08161141"
      },
      "execution_count": 1,
      "outputs": [
        {
          "output_type": "stream",
          "name": "stdout",
          "text": [
            "[1, 3, 5, 7, 9, 11, 13, 15, 17, 19, 21, 23, 25]\n"
          ]
        }
      ]
    },
    {
      "cell_type": "markdown",
      "source": [
        "Q.2"
      ],
      "metadata": {
        "id": "JUtovXd_enIb"
      }
    },
    {
      "cell_type": "markdown",
      "source": [
        "*args and **kwargs are used in functions to allow them to accept a variable number of arguments.\n",
        "\n",
        "args stands for \"arguments\" and allows a function to accept any number of positional arguments.\n",
        "\n",
        "kwargs stands for \"keyword arguments\" and allows a function to accept any number of keyword arguments."
      ],
      "metadata": {
        "id": "icgMcjhbepNq"
      }
    },
    {
      "cell_type": "code",
      "source": [
        "# Example using *args\n",
        "\n",
        "def concatenate(*args):\n",
        "    result = \"\"\n",
        "    for arg in args:\n",
        "        result += arg\n",
        "    return result\n",
        "\n",
        "# Call the function\n",
        "print(concatenate(\"Hello\", \" \", \"World\", \"!\"))\n"
      ],
      "metadata": {
        "colab": {
          "base_uri": "https://localhost:8080/"
        },
        "id": "2JwR6O7aelbF",
        "outputId": "1d3750a8-cec1-4fdd-8576-79de566e34bc"
      },
      "execution_count": 2,
      "outputs": [
        {
          "output_type": "stream",
          "name": "stdout",
          "text": [
            "Hello World!\n"
          ]
        }
      ]
    },
    {
      "cell_type": "code",
      "source": [
        "# example using **kwargs\n",
        "\n",
        "def display_info(**kwargs):\n",
        "    for key, value in kwargs.items():\n",
        "        print(f\"{key}: {value}\")\n",
        "\n",
        "# Call the function\n",
        "display_info(name=\"Subham\", age=23, city=\"Bhubaneswar\")\n"
      ],
      "metadata": {
        "colab": {
          "base_uri": "https://localhost:8080/"
        },
        "id": "MhgfdX5VfMab",
        "outputId": "5c34d101-4605-4ef8-f084-d64967d079f2"
      },
      "execution_count": 4,
      "outputs": [
        {
          "output_type": "stream",
          "name": "stdout",
          "text": [
            "name: Subham\n",
            "age: 23\n",
            "city: Bhubaneswar\n"
          ]
        }
      ]
    },
    {
      "cell_type": "markdown",
      "source": [
        "Q.3"
      ],
      "metadata": {
        "id": "Htcw368nfjNg"
      }
    },
    {
      "cell_type": "markdown",
      "source": [
        "In Python, an iterator is an object that allows iteration over a sequence of elements. \n",
        "The \"iter()\" function is used to initialize an iterator object, and the \"next()\" method is used for iteration to retrieve the next element from the iterator."
      ],
      "metadata": {
        "id": "BjID_BTVfm6Q"
      }
    },
    {
      "cell_type": "code",
      "source": [
        "#to print the first five elements of the given list\n",
        "\n",
        "given_list = [2, 4, 6, 8, 10, 12, 14, 16, 18, 20]\n",
        "\n",
        "# Initialize the iterator\n",
        "in_iter = iter(given_list)\n",
        "\n",
        "# Iterate and print the first five elements\n",
        "for _ in range(5):\n",
        "    element = next(in_iter)\n",
        "    print(element)\n"
      ],
      "metadata": {
        "colab": {
          "base_uri": "https://localhost:8080/"
        },
        "id": "AwMgBjvIfW0g",
        "outputId": "7090d937-ddb0-442c-9019-bb0d3840ebcd"
      },
      "execution_count": 5,
      "outputs": [
        {
          "output_type": "stream",
          "name": "stdout",
          "text": [
            "2\n",
            "4\n",
            "6\n",
            "8\n",
            "10\n"
          ]
        }
      ]
    },
    {
      "cell_type": "markdown",
      "source": [
        "Q.4"
      ],
      "metadata": {
        "id": "MfQPhp63ghbv"
      }
    },
    {
      "cell_type": "markdown",
      "source": [
        "A generator function in Python is a special type of function that generates an iterator when called.\n",
        "\n",
        "The \"yield\" keyword to generate a sequence of values, one at a time, instead of returning them all at once like a regular function.\n"
      ],
      "metadata": {
        "id": "DfBxT66aghBo"
      }
    },
    {
      "cell_type": "code",
      "source": [
        "#example of a generator function\n",
        "\n",
        "def generate_even_numbers(n):\n",
        "    num = 0\n",
        "    while num <= n:\n",
        "        yield num\n",
        "        num += 2\n",
        "\n",
        "# Create a generator object\n",
        "even_nums = generate_even_numbers(18)\n",
        "\n",
        "# Iterate and print the generated even numbers\n",
        "for num in even_nums:\n",
        "    print(num)\n"
      ],
      "metadata": {
        "colab": {
          "base_uri": "https://localhost:8080/"
        },
        "id": "Q4dhbAI9hNYu",
        "outputId": "ef2d9ca2-92ed-4271-b91f-7743876e82a4"
      },
      "execution_count": 9,
      "outputs": [
        {
          "output_type": "stream",
          "name": "stdout",
          "text": [
            "0\n",
            "2\n",
            "4\n",
            "6\n",
            "8\n",
            "10\n",
            "12\n",
            "14\n",
            "16\n",
            "18\n"
          ]
        }
      ]
    },
    {
      "cell_type": "markdown",
      "source": [
        "Q.5"
      ],
      "metadata": {
        "id": "8CY5SPk4hqL2"
      }
    },
    {
      "cell_type": "code",
      "source": [
        "# creating a generator function for prime number less than 1000 and using next() to get the first 20 prime numbers\n",
        "\n",
        "def generate_primes():\n",
        "    n = 2\n",
        "    primes = []\n",
        "    while True:\n",
        "        for p in primes:\n",
        "            if n % p == 0:\n",
        "                break\n",
        "        else:\n",
        "            primes.append(n)\n",
        "            yield n\n",
        "        n += 1\n",
        "\n",
        "prime_generator = generate_primes()\n",
        "for i in range(20):\n",
        "    print(next(prime_generator))\n"
      ],
      "metadata": {
        "colab": {
          "base_uri": "https://localhost:8080/"
        },
        "id": "TtRt1FSkisXu",
        "outputId": "c878c913-2df7-4e04-acc9-a280e495e93d"
      },
      "execution_count": 13,
      "outputs": [
        {
          "output_type": "stream",
          "name": "stdout",
          "text": [
            "2\n",
            "3\n",
            "5\n",
            "7\n",
            "11\n",
            "13\n",
            "17\n",
            "19\n",
            "23\n",
            "29\n",
            "31\n",
            "37\n",
            "41\n",
            "43\n",
            "47\n",
            "53\n",
            "59\n",
            "61\n",
            "67\n",
            "71\n"
          ]
        }
      ]
    },
    {
      "cell_type": "code",
      "source": [],
      "metadata": {
        "id": "VO6Gh8w2jGTt"
      },
      "execution_count": null,
      "outputs": []
    }
  ]
}