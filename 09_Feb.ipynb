{
  "nbformat": 4,
  "nbformat_minor": 0,
  "metadata": {
    "colab": {
      "provenance": [],
      "authorship_tag": "ABX9TyMEBabRnMim+fnUone2iIlC",
      "include_colab_link": true
    },
    "kernelspec": {
      "name": "python3",
      "display_name": "Python 3"
    },
    "language_info": {
      "name": "python"
    }
  },
  "cells": [
    {
      "cell_type": "markdown",
      "metadata": {
        "id": "view-in-github",
        "colab_type": "text"
      },
      "source": [
        "<a href=\"https://colab.research.google.com/github/jyotisubham1/Pw_ds_assignments/blob/main/09_Feb.ipynb\" target=\"_parent\"><img src=\"https://colab.research.google.com/assets/colab-badge.svg\" alt=\"Open In Colab\"/></a>"
      ]
    },
    {
      "cell_type": "markdown",
      "source": [
        "Q.1"
      ],
      "metadata": {
        "id": "UVD9cYJFAXB2"
      }
    },
    {
      "cell_type": "code",
      "execution_count": 1,
      "metadata": {
        "colab": {
          "base_uri": "https://localhost:8080/"
        },
        "id": "NoBPYA6mAWCC",
        "outputId": "67144691-56c0-4487-ae15-e029ab2c60ea"
      },
      "outputs": [
        {
          "output_type": "stream",
          "name": "stdout",
          "text": [
            "Name: Car, Max Speed: 200, Average: 25\n"
          ]
        }
      ],
      "source": [
        "class Vehicle:\n",
        "    def __init__(self, name_of_vehicle, max_speed, average_of_vehicle):\n",
        "        self.name_of_vehicle = name_of_vehicle\n",
        "        self.max_speed = max_speed\n",
        "        self.average_of_vehicle = average_of_vehicle\n",
        "\n",
        "# Example usage:\n",
        "vehicle1 = Vehicle(\"Car\", 200, 25)\n",
        "print(f\"Name: {vehicle1.name_of_vehicle}, Max Speed: {vehicle1.max_speed}, Average: {vehicle1.average_of_vehicle}\")\n"
      ]
    },
    {
      "cell_type": "markdown",
      "source": [
        "Q.2"
      ],
      "metadata": {
        "id": "vMNhOUS-AdQA"
      }
    },
    {
      "cell_type": "code",
      "source": [
        "class Car(Vehicle):\n",
        "    def seating_capacity(self, capacity):\n",
        "        return f\"{self.name_of_vehicle} - Seating Capacity: {capacity}\"\n",
        "\n",
        "# Example usage:\n",
        "car1 = Car(\"Sedan\", 180, 22)\n",
        "print(f\"Name: {car1.name_of_vehicle}, Max Speed: {car1.max_speed}, Average: {car1.average_of_vehicle}\")\n",
        "print(car1.seating_capacity(5))\n"
      ],
      "metadata": {
        "colab": {
          "base_uri": "https://localhost:8080/"
        },
        "id": "Ey1wpdAPAca-",
        "outputId": "16e8a193-74d9-4af6-b459-7fe66e5f2e3e"
      },
      "execution_count": 2,
      "outputs": [
        {
          "output_type": "stream",
          "name": "stdout",
          "text": [
            "Name: Sedan, Max Speed: 180, Average: 22\n",
            "Sedan - Seating Capacity: 5\n"
          ]
        }
      ]
    },
    {
      "cell_type": "markdown",
      "source": [
        "Q.3\n"
      ],
      "metadata": {
        "id": "Q5zvSHJ5AmJu"
      }
    },
    {
      "cell_type": "code",
      "source": [
        "class A:\n",
        "    def method_a(self):\n",
        "        print(\"Method from class A\")\n",
        "\n",
        "class B:\n",
        "    def method_b(self):\n",
        "        print(\"Method from class B\")\n",
        "\n",
        "class C(A, B):\n",
        "    def method_c(self):\n",
        "        print(\"Method from class C\")\n",
        "\n",
        "# Example usage:\n",
        "obj_c = C()\n",
        "obj_c.method_a()\n",
        "obj_c.method_b()\n",
        "obj_c.method_c()\n"
      ],
      "metadata": {
        "colab": {
          "base_uri": "https://localhost:8080/"
        },
        "id": "o2veqe-uAnwZ",
        "outputId": "a58be50e-5a97-44f8-c064-898367a8ea94"
      },
      "execution_count": 3,
      "outputs": [
        {
          "output_type": "stream",
          "name": "stdout",
          "text": [
            "Method from class A\n",
            "Method from class B\n",
            "Method from class C\n"
          ]
        }
      ]
    },
    {
      "cell_type": "markdown",
      "source": [
        "Q.4"
      ],
      "metadata": {
        "id": "lyxqWp0xAul9"
      }
    },
    {
      "cell_type": "code",
      "source": [
        "class MyClass:\n",
        "    def __init__(self):\n",
        "        self._my_variable = None  # Private variable with underscore convention\n",
        "\n",
        "    # Getter method\n",
        "    def get_my_variable(self):\n",
        "        return self._my_variable\n",
        "\n",
        "    # Setter method\n",
        "    def set_my_variable(self, value):\n",
        "        self._my_variable = value\n",
        "\n",
        "# Example usage:\n",
        "obj = MyClass()\n",
        "obj.set_my_variable(42)\n",
        "print(obj.get_my_variable())\n"
      ],
      "metadata": {
        "colab": {
          "base_uri": "https://localhost:8080/"
        },
        "id": "NRY7tuHEArAe",
        "outputId": "7ce70834-7ac1-4c92-d169-de26a816419e"
      },
      "execution_count": 4,
      "outputs": [
        {
          "output_type": "stream",
          "name": "stdout",
          "text": [
            "42\n"
          ]
        }
      ]
    },
    {
      "cell_type": "markdown",
      "source": [
        "Q.5"
      ],
      "metadata": {
        "id": "0TSQZK9UA0q9"
      }
    },
    {
      "cell_type": "code",
      "source": [
        "class Parent:\n",
        "    def show(self):\n",
        "        print(\"Parent's show method\")\n",
        "\n",
        "class Child(Parent):\n",
        "    def show(self):\n",
        "        print(\"Child's show method\")\n",
        "\n",
        "# Example usage:\n",
        "obj = Child()\n",
        "obj.show()\n"
      ],
      "metadata": {
        "colab": {
          "base_uri": "https://localhost:8080/"
        },
        "id": "W9WqJgO7AzLe",
        "outputId": "72c1223e-a758-4e7c-8a9c-4fb50a2ecab9"
      },
      "execution_count": 5,
      "outputs": [
        {
          "output_type": "stream",
          "name": "stdout",
          "text": [
            "Child's show method\n"
          ]
        }
      ]
    }
  ]
}