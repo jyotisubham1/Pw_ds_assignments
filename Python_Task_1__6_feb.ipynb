{
  "nbformat": 4,
  "nbformat_minor": 0,
  "metadata": {
    "colab": {
      "provenance": [],
      "authorship_tag": "ABX9TyOE+NZ4PcM1NZjE08+FTZCM",
      "include_colab_link": true
    },
    "kernelspec": {
      "name": "python3",
      "display_name": "Python 3"
    },
    "language_info": {
      "name": "python"
    }
  },
  "cells": [
    {
      "cell_type": "markdown",
      "metadata": {
        "id": "view-in-github",
        "colab_type": "text"
      },
      "source": [
        "<a href=\"https://colab.research.google.com/github/jyotisubham1/Pw_ds_assignments/blob/main/Python_Task_1__6_feb.ipynb\" target=\"_parent\"><img src=\"https://colab.research.google.com/assets/colab-badge.svg\" alt=\"Open In Colab\"/></a>"
      ]
    },
    {
      "cell_type": "markdown",
      "source": [
        "Q.1"
      ],
      "metadata": {
        "id": "tPyUIcWz_Sh7"
      }
    },
    {
      "cell_type": "code",
      "source": [
        "def product_of_numbers(lst):\n",
        "    flat_list = []\n",
        "    for item in lst:\n",
        "        if isinstance(item, list):\n",
        "            flat_list.extend(item)\n",
        "        elif isinstance(item, dict):\n",
        "            flat_list.extend(item.keys())\n",
        "            flat_list.extend(item.values())\n",
        "        else:\n",
        "            flat_list.append(item)\n",
        "\n",
        "    product = 1\n",
        "    for num in flat_list:\n",
        "        if isinstance(num, (int, float)):\n",
        "            product *= num\n",
        "\n",
        "    return product\n",
        "\n",
        "\n",
        "list1 = [1, 2, 3, 4, [44, 55, 66, True], False, (34, 56, 78, 89, 34), {1, 2, 3, 3, 2, 1}, {1: 34, \"key2\": [55, 67, 78, 89], 4: (45, 22, 61, 34)}, [56, 'data science'], 'Machine Learning']\n",
        "result = product_of_numbers(list1)\n",
        "print(result)\n"
      ],
      "metadata": {
        "colab": {
          "base_uri": "https://localhost:8080/"
        },
        "id": "ilG69yGOJYNM",
        "outputId": "eea70c6b-19c0-44c2-9a07-e92ac8d84d0a"
      },
      "execution_count": 1,
      "outputs": [
        {
          "output_type": "stream",
          "name": "stdout",
          "text": [
            "0\n"
          ]
        }
      ]
    },
    {
      "cell_type": "markdown",
      "source": [
        "Q.2"
      ],
      "metadata": {
        "id": "sWbIoErtMoh8"
      }
    },
    {
      "cell_type": "code",
      "source": [
        "def encrypt_message(message):\n",
        "    message = message.lower()\n",
        "    encrypted = \"\"\n",
        "\n",
        "    for char in message:\n",
        "        if char.isalpha():\n",
        "            encrypted += chr(ord('a') + (ord('z') - ord(char)))\n",
        "        elif char.isspace():\n",
        "            encrypted += '$'\n",
        "        else:\n",
        "            encrypted += char\n",
        "\n",
        "    return encrypted\n",
        "\n",
        "# Example usage:\n",
        "input_sentence = \"I want to become a Data Scientist.\"\n",
        "encrypted_sentence = encrypt_message(input_sentence)\n",
        "print(encrypted_sentence)\n"
      ],
      "metadata": {
        "colab": {
          "base_uri": "https://localhost:8080/"
        },
        "id": "VymxEeA4Mphz",
        "outputId": "320ef888-b62d-4b1a-ed4c-dfeaf156ffb8"
      },
      "execution_count": 2,
      "outputs": [
        {
          "output_type": "stream",
          "name": "stdout",
          "text": [
            "r$dzmg$gl$yvxlnv$z$wzgz$hxrvmgrhg.\n"
          ]
        }
      ]
    }
  ]
}