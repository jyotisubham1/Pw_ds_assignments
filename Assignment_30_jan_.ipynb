{
  "nbformat": 4,
  "nbformat_minor": 0,
  "metadata": {
    "colab": {
      "provenance": [],
      "authorship_tag": "ABX9TyMK3o7KYbEqeZy0MLFM9bzV",
      "include_colab_link": true
    },
    "kernelspec": {
      "name": "python3",
      "display_name": "Python 3"
    },
    "language_info": {
      "name": "python"
    }
  },
  "cells": [
    {
      "cell_type": "markdown",
      "metadata": {
        "id": "view-in-github",
        "colab_type": "text"
      },
      "source": [
        "<a href=\"https://colab.research.google.com/github/jyotisubham1/Pw_ds_assignments/blob/main/Assignment_30_jan_.ipynb\" target=\"_parent\"><img src=\"https://colab.research.google.com/assets/colab-badge.svg\" alt=\"Open In Colab\"/></a>"
      ]
    },
    {
      "cell_type": "markdown",
      "source": [
        "Q.1"
      ],
      "metadata": {
        "id": "ZN0QKavop2G5"
      }
    },
    {
      "cell_type": "code",
      "source": [],
      "metadata": {
        "id": "NxT2CVOfzy_x"
      },
      "execution_count": null,
      "outputs": []
    },
    {
      "cell_type": "code",
      "execution_count": null,
      "metadata": {
        "colab": {
          "base_uri": "https://localhost:8080/"
        },
        "id": "Anm2naxdRUhX",
        "outputId": "36ced09e-903b-47ff-cd3b-668b2e733a3a"
      },
      "outputs": [
        {
          "output_type": "stream",
          "name": "stdout",
          "text": [
            "Percentage: 110\n",
            "Grade: A\n"
          ]
        }
      ],
      "source": [
        "percentage = float(input(\"Percentage: \"))\n",
        "\n",
        "if percentage > 90:\n",
        "    grade = \"A\"\n",
        "elif percentage > 80: \n",
        "    grade = \"B\"\n",
        "elif percentage >= 60:\n",
        "    grade = \"C\"\n",
        "else:\n",
        "    grade = \"D\"\n",
        "\n",
        "print(\"Grade:\", grade)\n"
      ]
    },
    {
      "cell_type": "markdown",
      "source": [
        "Q.2"
      ],
      "metadata": {
        "id": "SY-DTyI-p8gg"
      }
    },
    {
      "cell_type": "code",
      "source": [
        "Price = int(input(\"price: \"))\n",
        "\n",
        "if Price > 100000:\n",
        "    Tax = \"15%\"\n",
        "elif Price > 50000:\n",
        "    Tax = \"10%\"\n",
        "else:\n",
        "    Tax = \"5%\"\n",
        "print(\"Tax:\", Tax)"
      ],
      "metadata": {
        "colab": {
          "base_uri": "https://localhost:8080/"
        },
        "id": "6sR9u2mxSTbE",
        "outputId": "2728e439-3223-4e9c-d0ee-267f442fac9b"
      },
      "execution_count": null,
      "outputs": [
        {
          "output_type": "stream",
          "name": "stdout",
          "text": [
            "price: 5000\n",
            "Tax: 5%\n"
          ]
        }
      ]
    },
    {
      "cell_type": "markdown",
      "source": [
        "Q.3"
      ],
      "metadata": {
        "id": "nlVUP7Lpp-8n"
      }
    },
    {
      "cell_type": "code",
      "source": [
        "city = input(\"city: \")\n",
        "\n",
        "if city.lower() == \"delhi\":\n",
        "    monument = \"Red Fort\"\n",
        "elif city.lower() == \"agra\":\n",
        "    monument = \"Taj Mahal\"\n",
        "elif city.lower() == \"jaipur\":\n",
        "    monument = \"Jal Mahal\"\n",
        "else:\n",
        "    monument = \"Monument not found.\"\n",
        "\n",
        "print(\"Monument:\", monument)\n"
      ],
      "metadata": {
        "colab": {
          "base_uri": "https://localhost:8080/"
        },
        "id": "p2zZLyJCT8uz",
        "outputId": "10644b2c-7aef-42ca-cdc4-4977583d4e96"
      },
      "execution_count": null,
      "outputs": [
        {
          "output_type": "stream",
          "name": "stdout",
          "text": [
            "city: delhi\n",
            "Monument: Red Fort\n"
          ]
        }
      ]
    },
    {
      "cell_type": "markdown",
      "source": [
        "Q.4"
      ],
      "metadata": {
        "id": "57mzCu5RqDEC"
      }
    },
    {
      "cell_type": "code",
      "source": [
        "number = int(input(\"Enter a number: \"))\n",
        "count = 0\n",
        "\n",
        "while number >= 10:\n",
        "    number = number / 3\n",
        "    count += 1\n",
        "\n",
        "print(\"Number of divisions by 3:\", count)\n",
        "\n"
      ],
      "metadata": {
        "colab": {
          "base_uri": "https://localhost:8080/"
        },
        "id": "RALDKoVsgcDW",
        "outputId": "d28884fb-0966-4922-ba12-b838048456c5"
      },
      "execution_count": null,
      "outputs": [
        {
          "output_type": "stream",
          "name": "stdout",
          "text": [
            "Enter a number: 90\n",
            "Number of divisions by 3: 3\n"
          ]
        }
      ]
    },
    {
      "cell_type": "markdown",
      "source": [
        "Q.5"
      ],
      "metadata": {
        "id": "XvBurAA_qJc3"
      }
    },
    {
      "cell_type": "markdown",
      "source": [
        "The while loop in Python is used to repeatedly execute a block of code as long as a given condition is true. It is a control flow statement that allows us to create loops based on a condition rather than a specific number of iterations. The while loop is particularly useful when we don't know in advance how many times you need to iterate.\n",
        "\n",
        "An example of while loop is given bellow"
      ],
      "metadata": {
        "id": "Lo6qqSYmqu7Y"
      }
    },
    {
      "cell_type": "code",
      "source": [
        "password = \"\"\n",
        "while password != \"password\":\n",
        "    password = input(\"Enter the password: \")\n",
        "    if password == \"password\":\n",
        "        print(\"Access granted!\")\n",
        "    else:\n",
        "        print(\"Access denied. Try again.\")\n"
      ],
      "metadata": {
        "colab": {
          "base_uri": "https://localhost:8080/"
        },
        "id": "IfAHPQJbgcYE",
        "outputId": "4d86d518-688e-4dbf-8733-b4a01285231e"
      },
      "execution_count": null,
      "outputs": [
        {
          "output_type": "stream",
          "name": "stdout",
          "text": [
            "Enter the password: Password\n",
            "Access denied. Try again.\n",
            "Enter the password: password\n",
            "Access granted!\n"
          ]
        }
      ]
    },
    {
      "cell_type": "markdown",
      "source": [
        "Q.6"
      ],
      "metadata": {
        "id": "-oAGtaBosDKx"
      }
    },
    {
      "cell_type": "code",
      "source": [
        "\n",
        "row = 1\n",
        "while row <= 5:\n",
        "    spaces = 5 - row\n",
        "    while spaces > 0:\n",
        "        print(\" \", end=\"\")\n",
        "        spaces -= 1\n",
        "\n",
        "    col = 1\n",
        "    while col <= (2 * row - 1):\n",
        "        print(\"*\", end=\"\")\n",
        "        col += 1\n",
        "\n",
        "    print()\n",
        "    row += 1\n"
      ],
      "metadata": {
        "id": "nCHHQyWqgcba",
        "colab": {
          "base_uri": "https://localhost:8080/"
        },
        "outputId": "ce9b5d86-e3fe-48b0-db3c-a20621672e12"
      },
      "execution_count": null,
      "outputs": [
        {
          "output_type": "stream",
          "name": "stdout",
          "text": [
            "    *\n",
            "   ***\n",
            "  *****\n",
            " *******\n",
            "*********\n"
          ]
        }
      ]
    },
    {
      "cell_type": "code",
      "source": [
        "row = 1\n",
        "while row <= 5:\n",
        "    col = 1\n",
        "    while col <= row:\n",
        "        print(\"*\", end=\"\")\n",
        "        col += 1\n",
        "    print()\n",
        "    row += 1"
      ],
      "metadata": {
        "id": "zI1e6zL8gcfe",
        "colab": {
          "base_uri": "https://localhost:8080/"
        },
        "outputId": "b7a32ed6-e0f8-45a5-df6e-4420611ad164"
      },
      "execution_count": null,
      "outputs": [
        {
          "output_type": "stream",
          "name": "stdout",
          "text": [
            "*\n",
            "**\n",
            "***\n",
            "****\n",
            "*****\n"
          ]
        }
      ]
    },
    {
      "cell_type": "code",
      "source": [
        "   row = 1\n",
        "while row <= 5:\n",
        "    spaces = 5 - row\n",
        "    while spaces > 0:\n",
        "        print(\" \", end=\"\")\n",
        "        spaces -= 1\n",
        "\n",
        "    col = 1\n",
        "    while col <= (2 * row - 1):\n",
        "        print(\"*\", end=\"\")\n",
        "        col += 1\n",
        "\n",
        "    print()\n",
        "    row += 1\n",
        "\n",
        "row = 4\n",
        "while row >= 1:\n",
        "    spaces = 5 - row\n",
        "    while spaces > 0:\n",
        "        print(\" \", end=\"\")\n",
        "        spaces -= 1\n",
        "\n",
        "    col = 1\n",
        "    while col <= (2 * row - 1):\n",
        "        print(\"*\", end=\"\")\n",
        "        col += 1\n",
        "\n",
        "    print()\n",
        "    row -= 1"
      ],
      "metadata": {
        "colab": {
          "base_uri": "https://localhost:8080/"
        },
        "id": "vVjIAnpStoSR",
        "outputId": "eaa9b11c-2ab6-46ca-b002-8833bafb21db"
      },
      "execution_count": null,
      "outputs": [
        {
          "output_type": "stream",
          "name": "stdout",
          "text": [
            "    *\n",
            "   ***\n",
            "  *****\n",
            " *******\n",
            "*********\n",
            " *******\n",
            "  *****\n",
            "   ***\n",
            "    *\n"
          ]
        }
      ]
    },
    {
      "cell_type": "markdown",
      "source": [
        "Q.7"
      ],
      "metadata": {
        "id": "hvg_cwhfwwGr"
      }
    },
    {
      "cell_type": "code",
      "source": [
        "num = 10 \n",
        "\n",
        "while num >= 1:  # Execute the loop as long as num is greater than or equal to 1\n",
        "    print(num)  \n",
        "    num -= 1  # Decrement num by 1 in each iteration\n",
        "\n",
        "# The loop will continue until num becomes less than 1\n"
      ],
      "metadata": {
        "colab": {
          "base_uri": "https://localhost:8080/"
        },
        "id": "AbZ7ncd3wyub",
        "outputId": "6034afce-7d51-48cf-f033-f28671b26909"
      },
      "execution_count": null,
      "outputs": [
        {
          "output_type": "stream",
          "name": "stdout",
          "text": [
            "10\n",
            "9\n",
            "8\n",
            "7\n",
            "6\n",
            "5\n",
            "4\n",
            "3\n",
            "2\n",
            "1\n"
          ]
        }
      ]
    },
    {
      "cell_type": "markdown",
      "source": [
        "Q.8  is the same question as the Q.7 "
      ],
      "metadata": {
        "id": "bzQ3gRpkxzvA"
      }
    },
    {
      "cell_type": "code",
      "source": [],
      "metadata": {
        "id": "qTRBJhmUy_xg"
      },
      "execution_count": null,
      "outputs": []
    }
  ]
}